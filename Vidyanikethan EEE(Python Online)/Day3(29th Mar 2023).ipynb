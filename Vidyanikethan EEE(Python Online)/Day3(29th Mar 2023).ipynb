{
 "cells": [
  {
   "cell_type": "markdown",
   "id": "2f3122f3",
   "metadata": {},
   "source": [
    "#### Today Topics\n",
    "- variable\n",
    "- data types"
   ]
  },
  {
   "cell_type": "markdown",
   "id": "1154ed3c",
   "metadata": {},
   "source": [
    "#### Variable\n",
    "- A variable is a container to store the data\n",
    "- let x=10:10 in a var called x:10 is assigned to x\n",
    "- **syntax**:name=value/data\n",
    "- **Identifiers**\n",
    "    1. var name should not start with either numbers/special chars\n",
    "    2. no space is allowed in the middle var name(instead you can use _(underscore))"
   ]
  },
  {
   "cell_type": "code",
   "execution_count": 6,
   "id": "be3a1800",
   "metadata": {
    "collapsed": true
   },
   "outputs": [
    {
     "name": "stdout",
     "output_type": "stream",
     "text": [
      "Ruthu\n",
      "I am Ruthu\n",
      "name\n",
      "jhsdhbfjhsjirf98uwe89re\n"
     ]
    }
   ],
   "source": [
    "#naming pattern that is easy to understand\n",
    "name='Ruthu' # name is the var that stores data\n",
    "age=20 #\n",
    "gpa=8.5\n",
    "year=\"III\"\n",
    "clg='SVEC'\n",
    "print(name)\n",
    "print(\"I am\",name)\n",
    "print(\"name\") # name will be printed\n",
    "print(\"jhsdhbfjhsjirf98uwe89re\") # message/text"
   ]
  },
  {
   "cell_type": "code",
   "execution_count": 9,
   "id": "b56d5226",
   "metadata": {
    "scrolled": true
   },
   "outputs": [
    {
     "name": "stdout",
     "output_type": "stream",
     "text": [
      "Myself Ruthu studying III in SVEC and I got 8.5\n"
     ]
    }
   ],
   "source": [
    "print(\"Myself\",name,\"studying\",year,\"in\",clg,'and I got',gpa)"
   ]
  },
  {
   "cell_type": "markdown",
   "id": "1dc078ce",
   "metadata": {},
   "source": [
    "#### print\n",
    "- print is the pre defined function used to display the output on the screen to the user/programmer\n",
    "- it can print 2 values\n",
    "    1. message(text enclosed in the quotations will be printed as it is)\n",
    "    2. value/data(Doesn't quotations)(variable)"
   ]
  },
  {
   "cell_type": "code",
   "execution_count": 14,
   "id": "a1d3084d",
   "metadata": {
    "collapsed": true
   },
   "outputs": [
    {
     "ename": "TypeError",
     "evalue": "can only concatenate str (not \"int\") to str",
     "output_type": "error",
     "traceback": [
      "\u001b[1;31m---------------------------------------------------------------------------\u001b[0m",
      "\u001b[1;31mTypeError\u001b[0m                                 Traceback (most recent call last)",
      "\u001b[1;32m~\\AppData\\Local\\Temp\\ipykernel_5768\\2778995527.py\u001b[0m in \u001b[0;36m<module>\u001b[1;34m\u001b[0m\n\u001b[0;32m      2\u001b[0m \u001b[0mstudy\u001b[0m\u001b[1;33m=\u001b[0m\u001b[1;34m'3rd year'\u001b[0m\u001b[1;33m\u001b[0m\u001b[1;33m\u001b[0m\u001b[0m\n\u001b[0;32m      3\u001b[0m \u001b[0mage\u001b[0m\u001b[1;33m=\u001b[0m\u001b[1;36m20\u001b[0m\u001b[1;33m\u001b[0m\u001b[1;33m\u001b[0m\u001b[0m\n\u001b[1;32m----> 4\u001b[1;33m \u001b[0mprint\u001b[0m\u001b[1;33m(\u001b[0m\u001b[1;34m\"myself \"\u001b[0m\u001b[1;33m+\u001b[0m\u001b[0mi_am\u001b[0m\u001b[1;33m+\u001b[0m\u001b[1;34m\" studying \"\u001b[0m\u001b[1;33m+\u001b[0m\u001b[0mstudy\u001b[0m\u001b[1;33m+\u001b[0m\u001b[1;34m'I am'\u001b[0m\u001b[1;33m+\u001b[0m\u001b[0mage\u001b[0m\u001b[1;33m+\u001b[0m\u001b[1;34m\"years old\"\u001b[0m\u001b[1;33m)\u001b[0m \u001b[1;31m# concatenation of string\u001b[0m\u001b[1;33m\u001b[0m\u001b[1;33m\u001b[0m\u001b[0m\n\u001b[0m",
      "\u001b[1;31mTypeError\u001b[0m: can only concatenate str (not \"int\") to str"
     ]
    }
   ],
   "source": [
    "i_am='Hemalatha'\n",
    "study='3rd year'\n",
    "age=20\n",
    "print(\"myself \"+i_am+\" studying \"+study+'I am'+age+\"years old\") # concatenation of string"
   ]
  },
  {
   "cell_type": "code",
   "execution_count": 15,
   "id": "f0f546db",
   "metadata": {},
   "outputs": [
    {
     "name": "stdout",
     "output_type": "stream",
     "text": [
      "myself  Hemalatha studying  3rd year I am 20 years old\n"
     ]
    }
   ],
   "source": [
    "print(\"myself \",i_am,\"studying \",study,'I am',age,\"years old\") # concatenation of string"
   ]
  },
  {
   "cell_type": "code",
   "execution_count": 16,
   "id": "136ba805",
   "metadata": {},
   "outputs": [
    {
     "data": {
      "text/plain": [
       "19"
      ]
     },
     "execution_count": 16,
     "metadata": {},
     "output_type": "execute_result"
    }
   ],
   "source": [
    "#you cannot add your name to your age\n",
    "9+10"
   ]
  },
  {
   "cell_type": "code",
   "execution_count": 18,
   "id": "2eaa46c1",
   "metadata": {},
   "outputs": [
    {
     "data": {
      "text/plain": [
       "'ruthumeda'"
      ]
     },
     "execution_count": 18,
     "metadata": {},
     "output_type": "execute_result"
    }
   ],
   "source": [
    "\"ruthu\"+\"meda\""
   ]
  },
  {
   "cell_type": "code",
   "execution_count": 19,
   "id": "ac6715f4",
   "metadata": {},
   "outputs": [
    {
     "ename": "SyntaxError",
     "evalue": "invalid syntax (552446911.py, line 1)",
     "output_type": "error",
     "traceback": [
      "\u001b[1;36m  File \u001b[1;32m\"C:\\Users\\ruthu\\AppData\\Local\\Temp\\ipykernel_5768\\552446911.py\"\u001b[1;36m, line \u001b[1;32m1\u001b[0m\n\u001b[1;33m    my name=\"Kalyan\"\u001b[0m\n\u001b[1;37m       ^\u001b[0m\n\u001b[1;31mSyntaxError\u001b[0m\u001b[1;31m:\u001b[0m invalid syntax\n"
     ]
    }
   ],
   "source": [
    "my name=\"Kalyan\"\n",
    "print(my name)"
   ]
  },
  {
   "cell_type": "code",
   "execution_count": 21,
   "id": "156a81f3",
   "metadata": {},
   "outputs": [
    {
     "name": "stdout",
     "output_type": "stream",
     "text": [
      "10 15\n",
      "I am Ruthu Vanitha is my friend\n"
     ]
    }
   ],
   "source": [
    "# Declaring multiple variables\n",
    "#variables followed by data:LHS(vars)=RHS(data)\n",
    "first,second=10,15\n",
    "me,frnd='Ruthu','Vanitha'\n",
    "print(first,second)\n",
    "print(\"I am\",me,frnd,\"is my friend\")"
   ]
  },
  {
   "cell_type": "code",
   "execution_count": 22,
   "id": "690a6891",
   "metadata": {},
   "outputs": [
    {
     "data": {
      "text/plain": [
       "(15, 15, 15)"
      ]
     },
     "execution_count": 22,
     "metadata": {},
     "output_type": "execute_result"
    }
   ],
   "source": [
    "x=15\n",
    "y=15\n",
    "z=15\n",
    "#single value to multi variables\n",
    "#x=y=z\n",
    "x,y,z # returns to the interpreter in the background"
   ]
  },
  {
   "cell_type": "code",
   "execution_count": 23,
   "id": "0b401f7b",
   "metadata": {},
   "outputs": [
    {
     "data": {
      "text/plain": [
       "(30, 30, 30)"
      ]
     },
     "execution_count": 23,
     "metadata": {},
     "output_type": "execute_result"
    }
   ],
   "source": [
    "x=y=z=30\n",
    "x,y,z"
   ]
  },
  {
   "cell_type": "markdown",
   "id": "47b354e8",
   "metadata": {},
   "source": [
    "### Data Types\n",
    "- the type of data\n",
    "    1. integers,float,boolean,string,imaginary(complex)"
   ]
  },
  {
   "cell_type": "code",
   "execution_count": 33,
   "id": "7580f8d2",
   "metadata": {},
   "outputs": [
    {
     "name": "stdout",
     "output_type": "stream",
     "text": [
      "<class 'int'>\n",
      "<class 'float'>\n",
      "<class 'str'>\n",
      "<class 'bool'>\n",
      "<class 'complex'>\n"
     ]
    }
   ],
   "source": [
    "#static variables(value stored remains constant/same to the entire page)\n",
    "val=10\n",
    "gpa=9.5\n",
    "name=\"Lakshmi\"\n",
    "dec=True\n",
    "im=3+4j\n",
    "#val,gpa,name,dec,im\n",
    "print(type(val))\n",
    "print(type(gpa))\n",
    "print(type(name))\n",
    "print(type(dec))\n",
    "print(type(im))\n"
   ]
  },
  {
   "cell_type": "code",
   "execution_count": 27,
   "id": "8adad98c",
   "metadata": {},
   "outputs": [
    {
     "data": {
      "text/plain": [
       "int"
      ]
     },
     "execution_count": 27,
     "metadata": {},
     "output_type": "execute_result"
    }
   ],
   "source": [
    "# type() is the predefined function to check the datatype of variable\n",
    "print(type(val))"
   ]
  },
  {
   "cell_type": "code",
   "execution_count": 34,
   "id": "3317373c",
   "metadata": {},
   "outputs": [
    {
     "data": {
      "text/plain": [
       "10"
      ]
     },
     "execution_count": 34,
     "metadata": {},
     "output_type": "execute_result"
    }
   ],
   "source": [
    "val"
   ]
  },
  {
   "cell_type": "code",
   "execution_count": 35,
   "id": "e63fb83c",
   "metadata": {},
   "outputs": [
    {
     "data": {
      "text/plain": [
       "'Lakshmi'"
      ]
     },
     "execution_count": 35,
     "metadata": {},
     "output_type": "execute_result"
    }
   ],
   "source": [
    "name"
   ]
  },
  {
   "cell_type": "code",
   "execution_count": 36,
   "id": "4566b562",
   "metadata": {},
   "outputs": [
    {
     "data": {
      "text/plain": [
       "9.5"
      ]
     },
     "execution_count": 36,
     "metadata": {},
     "output_type": "execute_result"
    }
   ],
   "source": [
    "gpa"
   ]
  },
  {
   "cell_type": "markdown",
   "id": "b33b1205",
   "metadata": {},
   "source": [
    "#### Dynamic data reading from user/keyboard\n",
    "- input() to read the input from keyboard/user by default"
   ]
  },
  {
   "cell_type": "code",
   "execution_count": 42,
   "id": "3936624c",
   "metadata": {},
   "outputs": [
    {
     "name": "stdout",
     "output_type": "stream",
     "text": [
      "enter your name:harish\n",
      "I am harish\n"
     ]
    }
   ],
   "source": [
    "myself=input(\"enter your name:\")\n",
    "print(\"I am\",myself)"
   ]
  },
  {
   "cell_type": "code",
   "execution_count": 43,
   "id": "468f2605",
   "metadata": {},
   "outputs": [
    {
     "data": {
      "text/plain": [
       "'harish'"
      ]
     },
     "execution_count": 43,
     "metadata": {},
     "output_type": "execute_result"
    }
   ],
   "source": [
    "myself"
   ]
  },
  {
   "cell_type": "code",
   "execution_count": null,
   "id": "2b831e59",
   "metadata": {},
   "outputs": [],
   "source": []
  },
  {
   "cell_type": "code",
   "execution_count": 37,
   "id": "b808a677",
   "metadata": {},
   "outputs": [
    {
     "data": {
      "text/plain": [
       "9.5"
      ]
     },
     "execution_count": 37,
     "metadata": {},
     "output_type": "execute_result"
    }
   ],
   "source": [
    "gpa"
   ]
  },
  {
   "cell_type": "code",
   "execution_count": 38,
   "id": "ada4f844",
   "metadata": {},
   "outputs": [
    {
     "data": {
      "text/plain": [
       "'Lakshmi'"
      ]
     },
     "execution_count": 38,
     "metadata": {},
     "output_type": "execute_result"
    }
   ],
   "source": [
    "name"
   ]
  },
  {
   "cell_type": "markdown",
   "id": "ea63b645",
   "metadata": {},
   "source": [
    "#### Datatype conversion\n",
    "- conversion of data type of variable from one format to another\n",
    "- 2types of type conversion/type casting\n",
    "    1. Implicit conversion\n",
    "        - default conversion by the interpreter\n",
    "    2. Explicit conversion\n",
    "        - conversion by the user/programmer"
   ]
  },
  {
   "cell_type": "code",
   "execution_count": 45,
   "id": "b3b42907",
   "metadata": {},
   "outputs": [
    {
     "data": {
      "text/plain": [
       "10"
      ]
     },
     "execution_count": 45,
     "metadata": {},
     "output_type": "execute_result"
    }
   ],
   "source": [
    "#read int,float\n",
    "val"
   ]
  },
  {
   "cell_type": "code",
   "execution_count": 46,
   "id": "f0dacdae",
   "metadata": {},
   "outputs": [
    {
     "data": {
      "text/plain": [
       "10.0"
      ]
     },
     "execution_count": 46,
     "metadata": {},
     "output_type": "execute_result"
    }
   ],
   "source": [
    "float(val) # explicit conversion"
   ]
  },
  {
   "cell_type": "code",
   "execution_count": 47,
   "id": "025d8c2e",
   "metadata": {},
   "outputs": [
    {
     "data": {
      "text/plain": [
       "1024.8"
      ]
     },
     "execution_count": 47,
     "metadata": {},
     "output_type": "execute_result"
    }
   ],
   "source": [
    "90+934.8 # int+float:float:implicit conversion"
   ]
  },
  {
   "cell_type": "code",
   "execution_count": 49,
   "id": "94db0445",
   "metadata": {
    "collapsed": true
   },
   "outputs": [
    {
     "ename": "ValueError",
     "evalue": "invalid literal for int() with base 10: 'hi'",
     "output_type": "error",
     "traceback": [
      "\u001b[1;31m---------------------------------------------------------------------------\u001b[0m",
      "\u001b[1;31mValueError\u001b[0m                                Traceback (most recent call last)",
      "\u001b[1;32m~\\AppData\\Local\\Temp\\ipykernel_5768\\1414503420.py\u001b[0m in \u001b[0;36m<module>\u001b[1;34m\u001b[0m\n\u001b[0;32m      1\u001b[0m \u001b[1;31m#similarly\u001b[0m\u001b[1;33m\u001b[0m\u001b[1;33m\u001b[0m\u001b[0m\n\u001b[1;32m----> 2\u001b[1;33m \u001b[0mint\u001b[0m\u001b[1;33m(\u001b[0m\u001b[1;34m\"hi\"\u001b[0m\u001b[1;33m)\u001b[0m\u001b[1;33m\u001b[0m\u001b[1;33m\u001b[0m\u001b[0m\n\u001b[0m",
      "\u001b[1;31mValueError\u001b[0m: invalid literal for int() with base 10: 'hi'"
     ]
    }
   ],
   "source": [
    "#similarly\n",
    "int(\"hi\") "
   ]
  },
  {
   "cell_type": "code",
   "execution_count": 50,
   "id": "1f56b1cf",
   "metadata": {
    "collapsed": true
   },
   "outputs": [
    {
     "ename": "ValueError",
     "evalue": "invalid literal for int() with base 10: 'Ruthu'",
     "output_type": "error",
     "traceback": [
      "\u001b[1;31m---------------------------------------------------------------------------\u001b[0m",
      "\u001b[1;31mValueError\u001b[0m                                Traceback (most recent call last)",
      "\u001b[1;32m~\\AppData\\Local\\Temp\\ipykernel_5768\\2687512592.py\u001b[0m in \u001b[0;36m<module>\u001b[1;34m\u001b[0m\n\u001b[1;32m----> 1\u001b[1;33m \u001b[0mint\u001b[0m\u001b[1;33m(\u001b[0m\u001b[1;34m'Ruthu'\u001b[0m\u001b[1;33m)\u001b[0m\u001b[1;33m\u001b[0m\u001b[1;33m\u001b[0m\u001b[0m\n\u001b[0m",
      "\u001b[1;31mValueError\u001b[0m: invalid literal for int() with base 10: 'Ruthu'"
     ]
    }
   ],
   "source": [
    "int('Ruthu')"
   ]
  },
  {
   "cell_type": "code",
   "execution_count": 51,
   "id": "00f48637",
   "metadata": {},
   "outputs": [
    {
     "data": {
      "text/plain": [
       "90"
      ]
     },
     "execution_count": 51,
     "metadata": {},
     "output_type": "execute_result"
    }
   ],
   "source": [
    "int(\"90\")"
   ]
  },
  {
   "cell_type": "code",
   "execution_count": 55,
   "id": "78fc2d94",
   "metadata": {
    "collapsed": true
   },
   "outputs": [
    {
     "name": "stdout",
     "output_type": "stream",
     "text": [
      "value:89\n",
      "89\n"
     ]
    }
   ],
   "source": [
    "#input() # reads str data by default\n",
    "n=int(input('value:')) # explicit conversion\n",
    "print(n)"
   ]
  },
  {
   "cell_type": "code",
   "execution_count": 56,
   "id": "07486409",
   "metadata": {
    "collapsed": true
   },
   "outputs": [
    {
     "name": "stdout",
     "output_type": "stream",
     "text": [
      "ruthu\n"
     ]
    },
    {
     "ename": "ValueError",
     "evalue": "invalid literal for int() with base 10: 'ruthu'",
     "output_type": "error",
     "traceback": [
      "\u001b[1;31m---------------------------------------------------------------------------\u001b[0m",
      "\u001b[1;31mValueError\u001b[0m                                Traceback (most recent call last)",
      "\u001b[1;32m~\\AppData\\Local\\Temp\\ipykernel_5768\\1482603483.py\u001b[0m in \u001b[0;36m<module>\u001b[1;34m\u001b[0m\n\u001b[1;32m----> 1\u001b[1;33m \u001b[0mnew\u001b[0m\u001b[1;33m=\u001b[0m\u001b[0mint\u001b[0m\u001b[1;33m(\u001b[0m\u001b[0minput\u001b[0m\u001b[1;33m(\u001b[0m\u001b[1;33m)\u001b[0m\u001b[1;33m)\u001b[0m\u001b[1;33m\u001b[0m\u001b[1;33m\u001b[0m\u001b[0m\n\u001b[0m\u001b[0;32m      2\u001b[0m \u001b[0mprint\u001b[0m\u001b[1;33m(\u001b[0m\u001b[0mnew\u001b[0m\u001b[1;33m)\u001b[0m\u001b[1;33m\u001b[0m\u001b[1;33m\u001b[0m\u001b[0m\n",
      "\u001b[1;31mValueError\u001b[0m: invalid literal for int() with base 10: 'ruthu'"
     ]
    }
   ],
   "source": [
    "new=int(input())\n",
    "print(new)"
   ]
  },
  {
   "cell_type": "code",
   "execution_count": 57,
   "id": "b04fcf3e",
   "metadata": {},
   "outputs": [
    {
     "name": "stdout",
     "output_type": "stream",
     "text": [
      "90.45\n",
      "I got 90.45\n"
     ]
    }
   ],
   "source": [
    "marks=float(input())\n",
    "print(\"I got\",marks)"
   ]
  },
  {
   "cell_type": "code",
   "execution_count": 58,
   "id": "b8c04f0a",
   "metadata": {},
   "outputs": [
    {
     "data": {
      "text/plain": [
       "'0b1010'"
      ]
     },
     "execution_count": 58,
     "metadata": {},
     "output_type": "execute_result"
    }
   ],
   "source": [
    "#binary digits\n",
    "bin(10)"
   ]
  },
  {
   "cell_type": "code",
   "execution_count": 59,
   "id": "cafe5a3e",
   "metadata": {},
   "outputs": [
    {
     "data": {
      "text/plain": [
       "True"
      ]
     },
     "execution_count": 59,
     "metadata": {},
     "output_type": "execute_result"
    }
   ],
   "source": [
    "bool(23)"
   ]
  },
  {
   "cell_type": "code",
   "execution_count": 60,
   "id": "0fbc4e2e",
   "metadata": {},
   "outputs": [
    {
     "data": {
      "text/plain": [
       "True"
      ]
     },
     "execution_count": 60,
     "metadata": {},
     "output_type": "execute_result"
    }
   ],
   "source": [
    "bool(-9)"
   ]
  },
  {
   "cell_type": "code",
   "execution_count": 61,
   "id": "d0be204a",
   "metadata": {},
   "outputs": [],
   "source": [
    "# come with the solution\n",
    "#how to convert binary to int?\n",
    "#can we read binary digits directly from user?"
   ]
  },
  {
   "cell_type": "markdown",
   "id": "c6b2ac75",
   "metadata": {},
   "source": [
    "#### Operators\n",
    "- anything that operates/performs an operation on operands\n",
    "- ex:a+b:+ is the operator performs addition op'n on operands a and b\n",
    "- **Types of operators**\n",
    "    1. arithmetic operators\n",
    "        - +,-,/,*,** (exponential),%\n",
    "    2. assignment\n",
    "        - =,+=,-=,/=,*/\n",
    "    3. boolean\n",
    "        - True,False,None\n",
    "    4. bitwise\n",
    "        - | (or), & (and), ^ (XOR)\n",
    "    5. comparisional/relational\n",
    "        - <,<=,>,>=,==,!=\n",
    "    6. identity\n",
    "        - is, is not\n",
    "    7. membership\n",
    "        - in, not in\n",
    "    8. op'rs used in print()\n",
    "        - end,sep\n",
    "    9. logical operators\n",
    "        - and,or,not"
   ]
  },
  {
   "cell_type": "code",
   "execution_count": 62,
   "id": "78aa1f69",
   "metadata": {},
   "outputs": [
    {
     "data": {
      "text/plain": [
       "19"
      ]
     },
     "execution_count": 62,
     "metadata": {},
     "output_type": "execute_result"
    }
   ],
   "source": [
    "9+10 # (a+b)"
   ]
  },
  {
   "cell_type": "code",
   "execution_count": 64,
   "id": "72b45d08",
   "metadata": {},
   "outputs": [
    {
     "name": "stdout",
     "output_type": "stream",
     "text": [
      "first value:9\n",
      "second value:4\n",
      "arithmetic operations results in \n",
      "sum= 13\n",
      "difference= 5\n",
      "product= 36\n",
      "coefficient= 2.25\n",
      "integer division= 2\n",
      "exponential= 6561\n",
      "remainder= 1\n"
     ]
    }
   ],
   "source": [
    "#read 2 integers from user and perform all the arithmetic operations\n",
    "# bitwise\n",
    "#comparisional/realtional\n",
    "first,second=int(input('first value:')),int(input(\"second value:\"))\n",
    "print(\"arithmetic operations results in \")\n",
    "print(\"sum=\",first+second)\n",
    "print(\"difference=\",first-second)\n",
    "print(\"product=\",first*second)\n",
    "print(\"coefficient=\",first/second)\n",
    "print(\"integer division=\",first//second)\n",
    "print(\"exponential=\",first**second)\n",
    "print(\"remainder=\",first%second)"
   ]
  },
  {
   "cell_type": "code",
   "execution_count": 65,
   "id": "f27fa0de",
   "metadata": {},
   "outputs": [
    {
     "data": {
      "text/plain": [
       "2.25"
      ]
     },
     "execution_count": 65,
     "metadata": {},
     "output_type": "execute_result"
    }
   ],
   "source": [
    "9/4"
   ]
  },
  {
   "cell_type": "code",
   "execution_count": 66,
   "id": "ac7e39c2",
   "metadata": {},
   "outputs": [
    {
     "data": {
      "text/plain": [
       "2"
      ]
     },
     "execution_count": 66,
     "metadata": {},
     "output_type": "execute_result"
    }
   ],
   "source": [
    "9//4"
   ]
  },
  {
   "cell_type": "markdown",
   "id": "d253d712",
   "metadata": {},
   "source": [
    "+ and *  on both string and integers"
   ]
  },
  {
   "cell_type": "code",
   "execution_count": 67,
   "id": "c0668841",
   "metadata": {},
   "outputs": [
    {
     "data": {
      "text/plain": [
       "179"
      ]
     },
     "execution_count": 67,
     "metadata": {},
     "output_type": "execute_result"
    }
   ],
   "source": [
    "90+89 # summation"
   ]
  },
  {
   "cell_type": "code",
   "execution_count": 68,
   "id": "10485245",
   "metadata": {},
   "outputs": [
    {
     "data": {
      "text/plain": [
       "'hihello'"
      ]
     },
     "execution_count": 68,
     "metadata": {},
     "output_type": "execute_result"
    }
   ],
   "source": [
    "\"hi\"+'hello' # concatenation(arranging side by side)"
   ]
  },
  {
   "cell_type": "code",
   "execution_count": 69,
   "id": "58d41c27",
   "metadata": {},
   "outputs": [
    {
     "data": {
      "text/plain": [
       "32"
      ]
     },
     "execution_count": 69,
     "metadata": {},
     "output_type": "execute_result"
    }
   ],
   "source": [
    "4*8"
   ]
  },
  {
   "cell_type": "code",
   "execution_count": 70,
   "id": "c15aff45",
   "metadata": {},
   "outputs": [
    {
     "data": {
      "text/plain": [
       "'cccc'"
      ]
     },
     "execution_count": 70,
     "metadata": {},
     "output_type": "execute_result"
    }
   ],
   "source": [
    "4*'c'"
   ]
  },
  {
   "cell_type": "code",
   "execution_count": 72,
   "id": "cabd7c83",
   "metadata": {},
   "outputs": [
    {
     "name": "stdout",
     "output_type": "stream",
     "text": [
      "9\n",
      "90\n",
      "r\n",
      "rrrrrrrrr\n",
      "810\n"
     ]
    }
   ],
   "source": [
    "n=int(input())\n",
    "m=int(input())\n",
    "ch=input()\n",
    "print(n*ch)\n",
    "print(n*m)"
   ]
  },
  {
   "cell_type": "code",
   "execution_count": null,
   "id": "cc071fe9",
   "metadata": {},
   "outputs": [],
   "source": []
  }
 ],
 "metadata": {
  "kernelspec": {
   "display_name": "Python 3 (ipykernel)",
   "language": "python",
   "name": "python3"
  },
  "language_info": {
   "codemirror_mode": {
    "name": "ipython",
    "version": 3
   },
   "file_extension": ".py",
   "mimetype": "text/x-python",
   "name": "python",
   "nbconvert_exporter": "python",
   "pygments_lexer": "ipython3",
   "version": "3.9.13"
  }
 },
 "nbformat": 4,
 "nbformat_minor": 5
}
