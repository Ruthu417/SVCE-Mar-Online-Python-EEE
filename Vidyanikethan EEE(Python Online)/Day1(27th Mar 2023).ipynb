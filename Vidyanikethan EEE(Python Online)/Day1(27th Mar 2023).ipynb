{
 "cells": [
  {
   "cell_type": "code",
   "execution_count": 1,
   "id": "b055f039",
   "metadata": {},
   "outputs": [
    {
     "name": "stdout",
     "output_type": "stream",
     "text": [
      "Welcome to the Python course\n"
     ]
    }
   ],
   "source": [
    "print(\"Welcome to the Python course\") # comment-> a line not to be executed"
   ]
  },
  {
   "cell_type": "code",
   "execution_count": 2,
   "id": "fa5b0721",
   "metadata": {
    "scrolled": true
   },
   "outputs": [
    {
     "name": "stdout",
     "output_type": "stream",
     "text": [
      "Hi I am Ruthu from APSSDC\n"
     ]
    }
   ],
   "source": [
    "print('Hi I am Ruthu from APSSDC')"
   ]
  },
  {
   "cell_type": "code",
   "execution_count": 3,
   "id": "3278a193",
   "metadata": {
    "scrolled": true
   },
   "outputs": [
    {
     "name": "stdout",
     "output_type": "stream",
     "text": [
      " this is a triple quoted text\n"
     ]
    }
   ],
   "source": [
    "print(''' this is a triple quoted text''')"
   ]
  },
  {
   "cell_type": "markdown",
   "id": "bbe10b23",
   "metadata": {},
   "source": [
    "### Literate Programming\n",
    "- User friendly software\n",
    "- Programming along with documentation"
   ]
  },
  {
   "cell_type": "markdown",
   "id": "3050fc0f",
   "metadata": {},
   "source": [
    "# Heading1\n",
    "## Heading2\n",
    "### heading3\n",
    "#### Heading4\n",
    "##### heading5\n",
    "###### heading6\n",
    "####### normal text\n",
    "- new line\n",
    "* next line"
   ]
  },
  {
   "cell_type": "markdown",
   "id": "fc5ffd85",
   "metadata": {},
   "source": [
    "### Font Styles\n",
    "- plain/normal text\n",
    "- I am *italic* text\n",
    "- I am **bold** text\n",
    "- I am ***Ruthu(italic bold)*** from **APSSDC**"
   ]
  },
  {
   "cell_type": "markdown",
   "id": "32ef1e18",
   "metadata": {},
   "source": [
    "### Criteria(Heading)\n",
    "1. first line\n",
    "        1.1 line\n",
    "         1.2 number\n",
    "2. second line\n",
    "    - sub line\n",
    "        - sub sub line\n",
    "            - content/paragraph\n",
    "                - ladder\n",
    "- **third heading**\n",
    "    - first line\n",
    "    2. second line\n",
    "    3. third line\n",
    "    * fourth line"
   ]
  },
  {
   "cell_type": "markdown",
   "id": "fdbd7c26",
   "metadata": {},
   "source": [
    "<h2>I am working with HTML</h2>\n",
    "<p>This is rediculous</p>\n"
   ]
  },
  {
   "cell_type": "code",
   "execution_count": null,
   "id": "af655750",
   "metadata": {},
   "outputs": [],
   "source": []
  }
 ],
 "metadata": {
  "kernelspec": {
   "display_name": "Python 3 (ipykernel)",
   "language": "python",
   "name": "python3"
  },
  "language_info": {
   "codemirror_mode": {
    "name": "ipython",
    "version": 3
   },
   "file_extension": ".py",
   "mimetype": "text/x-python",
   "name": "python",
   "nbconvert_exporter": "python",
   "pygments_lexer": "ipython3",
   "version": "3.9.13"
  }
 },
 "nbformat": 4,
 "nbformat_minor": 5
}
