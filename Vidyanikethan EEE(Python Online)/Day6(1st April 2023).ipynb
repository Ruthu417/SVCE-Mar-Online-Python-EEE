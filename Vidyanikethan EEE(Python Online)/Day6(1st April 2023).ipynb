{
 "cells": [
  {
   "cell_type": "markdown",
   "id": "5fca334e",
   "metadata": {},
   "source": [
    "#### Today Topics\n",
    "- conditional statements\n",
    "- restrictions/conditions in our code/logic\n",
    "- if,else,elif(else if)\n",
    "    - **Syntax**\n",
    "        - if condition:\n",
    "            - statements"
   ]
  },
  {
   "cell_type": "code",
   "execution_count": 12,
   "id": "f36f853a",
   "metadata": {
    "collapsed": true
   },
   "outputs": [
    {
     "name": "stdout",
     "output_type": "stream",
     "text": [
      "new number:90\n",
      "yes\n",
      "I am xxxx\n",
      "good\n",
      "bad\n",
      "Excellent\n"
     ]
    }
   ],
   "source": [
    "# I want to check whether a dynamic number greater than given number\n",
    "num=90\n",
    "new=int(input(\"new number:\"))\n",
    "#new is num\n",
    "if new>=num: # 100>=90\n",
    "    print(\"yes\")\n",
    "    \n",
    "if new%2==0:\n",
    "    print(\"I am xxxx\")\n",
    "if new>=num and new%2==0:\n",
    "    print(\"good\")\n",
    "    \n",
    "if new<=num or new%2==0: # T or F:T\n",
    "    print(\"bad\")\n",
    "    \n",
    "if new in range(20,100) and new==num:\n",
    "    print(\"Excellent\")"
   ]
  },
  {
   "cell_type": "code",
   "execution_count": 13,
   "id": "1982c19b",
   "metadata": {},
   "outputs": [
    {
     "name": "stdout",
     "output_type": "stream",
     "text": [
      "my salary:90000\n",
      "I am unlucky\n"
     ]
    }
   ],
   "source": [
    "#2nd condition check:else\n",
    "#print lucky if the sal in 6 digit number\n",
    "#print unlucky\n",
    "lpa=int(input(\"my salary:\"))\n",
    "if lpa in range(100000,999999):\n",
    "    print(\"I am lucky\")\n",
    "else:print(\"I am unlucky\")"
   ]
  },
  {
   "cell_type": "code",
   "execution_count": 17,
   "id": "9b1f92b8",
   "metadata": {
    "collapsed": true
   },
   "outputs": [
    {
     "name": "stdout",
     "output_type": "stream",
     "text": [
      "enter the year:1980\n",
      "leap year\n"
     ]
    }
   ],
   "source": [
    "#check for the leap year possibility\n",
    "year=int(input(\"enter the year:\"))\n",
    "if (year%4==0) or (year%400==0 and year%100!=0):\n",
    "    print('leap year')\n",
    "else:print('non leap year')"
   ]
  },
  {
   "cell_type": "code",
   "execution_count": 20,
   "id": "96ff3921",
   "metadata": {},
   "outputs": [
    {
     "name": "stdout",
     "output_type": "stream",
     "text": [
      "character:o\n",
      "vowel\n"
     ]
    }
   ],
   "source": [
    "#read a char from user and print hello if it is vowel otherwise print bye\n",
    "ch=input(\"character:\")\n",
    "if ch=='e' or ch=='a' or ch=='i' or ch=='o' or ch=='u':\n",
    "    print(\"vowel\")\n",
    "else:print(\"consonant\")"
   ]
  },
  {
   "cell_type": "code",
   "execution_count": 24,
   "id": "162a073a",
   "metadata": {
    "collapsed": true
   },
   "outputs": [
    {
     "name": "stdout",
     "output_type": "stream",
     "text": [
      "character:a\n",
      "lowercase vowel\n"
     ]
    }
   ],
   "source": [
    "#read a char from user and print hello if it is vowel otherwise print bye\n",
    "ch=input(\"character:\")\n",
    "if ch=='e' or ch=='a' or ch=='i' or ch=='o' or ch=='u': #case1\n",
    "    print(\"lowercase vowel\")\n",
    "elif ch=='A' or ch=='E' or ch=='I' or ch=='O' or ch=='U':#case2\n",
    "    print(\"uppercase vowel\")\n",
    "else:\n",
    "    print(\"consonant\")"
   ]
  },
  {
   "cell_type": "code",
   "execution_count": 25,
   "id": "15430b5f",
   "metadata": {},
   "outputs": [
    {
     "name": "stdout",
     "output_type": "stream",
     "text": [
      "character:j\n",
      "consonant..!\n"
     ]
    }
   ],
   "source": [
    "#2nd way of logic\n",
    "lower=\"aeiou\"\n",
    "upper=\"AEIOU\"\n",
    "ch=input(\"character:\")\n",
    "if ch in lower:\n",
    "    print(\"lowercase vowel\")\n",
    "elif ch in upper:\n",
    "    print(\"uppercase vowel\")\n",
    "else:\n",
    "    print(\"consonant..!\")"
   ]
  },
  {
   "cell_type": "code",
   "execution_count": 28,
   "id": "48a65a37",
   "metadata": {
    "collapsed": true
   },
   "outputs": [
    {
     "ename": "SyntaxError",
     "evalue": "invalid syntax (1008883787.py, line 2)",
     "output_type": "error",
     "traceback": [
      "\u001b[1;36m  File \u001b[1;32m\"C:\\Users\\ruthu\\AppData\\Local\\Temp\\ipykernel_10928\\1008883787.py\"\u001b[1;36m, line \u001b[1;32m2\u001b[0m\n\u001b[1;33m    if in if\u001b[0m\n\u001b[1;37m       ^\u001b[0m\n\u001b[1;31mSyntaxError\u001b[0m\u001b[1;31m:\u001b[0m invalid syntax\n"
     ]
    }
   ],
   "source": [
    "#nested if statements\n",
    "if in if\n",
    "else in if\n",
    "if in else\n",
    "else in else"
   ]
  },
  {
   "cell_type": "code",
   "execution_count": 31,
   "id": "4a5b1455",
   "metadata": {},
   "outputs": [
    {
     "name": "stdout",
     "output_type": "stream",
     "text": [
      "x value:80\n",
      "good\n",
      "even\n"
     ]
    }
   ],
   "source": [
    "# I want to check whether a dynamic number greater than given number\n",
    "x=int(input(\"x value:\"))\n",
    "if x in range(100,1000):\n",
    "    print(\"good\")\n",
    "    if x%2==1:\n",
    "        print(\"odd\")\n",
    "    else:\n",
    "        print(\"even\")\n",
    "else:\n",
    "    print(\"invalid\")"
   ]
  },
  {
   "cell_type": "code",
   "execution_count": 32,
   "id": "73fc8a1a",
   "metadata": {},
   "outputs": [
    {
     "name": "stdout",
     "output_type": "stream",
     "text": [
      "x value:80\n",
      "okay !\n"
     ]
    }
   ],
   "source": [
    "# I want to check whether a dynamic number greater than given number\n",
    "x=int(input(\"x value:\"))\n",
    "if x in range(100,1000):\n",
    "    print(\"good\")\n",
    "    if x%2==1:\n",
    "        print(\"odd\")\n",
    "    else:\n",
    "        print(\"even\")\n",
    "        \n",
    "elif x in range(1,99):\n",
    "    print(\"okay !\")\n",
    "    \n",
    "else:\n",
    "    print(\"invalid\")"
   ]
  },
  {
   "cell_type": "code",
   "execution_count": null,
   "id": "c48b96bb",
   "metadata": {},
   "outputs": [],
   "source": []
  }
 ],
 "metadata": {
  "kernelspec": {
   "display_name": "Python 3 (ipykernel)",
   "language": "python",
   "name": "python3"
  },
  "language_info": {
   "codemirror_mode": {
    "name": "ipython",
    "version": 3
   },
   "file_extension": ".py",
   "mimetype": "text/x-python",
   "name": "python",
   "nbconvert_exporter": "python",
   "pygments_lexer": "ipython3",
   "version": "3.9.13"
  }
 },
 "nbformat": 4,
 "nbformat_minor": 5
}
