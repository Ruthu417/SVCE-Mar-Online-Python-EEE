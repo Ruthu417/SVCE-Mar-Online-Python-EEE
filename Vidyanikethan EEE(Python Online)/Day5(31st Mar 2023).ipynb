{
 "cells": [
  {
   "cell_type": "markdown",
   "id": "7f09e0e7",
   "metadata": {},
   "source": [
    "#### Today Topics\n",
    "- continue with the operators"
   ]
  },
  {
   "cell_type": "markdown",
   "id": "9f3c7e53",
   "metadata": {},
   "source": [
    "##### Boolean\n",
    "- True\n",
    "- False\n",
    "- None"
   ]
  },
  {
   "cell_type": "code",
   "execution_count": 1,
   "id": "dc482f8b",
   "metadata": {},
   "outputs": [],
   "source": [
    "x=True\n",
    "y=False\n",
    "st=None"
   ]
  },
  {
   "cell_type": "code",
   "execution_count": 2,
   "id": "dc2c1347",
   "metadata": {},
   "outputs": [
    {
     "data": {
      "text/plain": [
       "False"
      ]
     },
     "execution_count": 2,
     "metadata": {},
     "output_type": "execute_result"
    }
   ],
   "source": [
    "x is y # identity operator"
   ]
  },
  {
   "cell_type": "code",
   "execution_count": 3,
   "id": "561bb8f1",
   "metadata": {},
   "outputs": [
    {
     "data": {
      "text/plain": [
       "True"
      ]
     },
     "execution_count": 3,
     "metadata": {},
     "output_type": "execute_result"
    }
   ],
   "source": [
    "x is not y # True"
   ]
  },
  {
   "cell_type": "code",
   "execution_count": 4,
   "id": "d1d8ded6",
   "metadata": {},
   "outputs": [
    {
     "data": {
      "text/plain": [
       "False"
      ]
     },
     "execution_count": 4,
     "metadata": {},
     "output_type": "execute_result"
    }
   ],
   "source": [
    "f,s=10,15\n",
    "f is s"
   ]
  },
  {
   "cell_type": "code",
   "execution_count": 5,
   "id": "132a40c0",
   "metadata": {},
   "outputs": [
    {
     "data": {
      "text/plain": [
       "True"
      ]
     },
     "execution_count": 5,
     "metadata": {},
     "output_type": "execute_result"
    }
   ],
   "source": [
    "f is not s"
   ]
  },
  {
   "cell_type": "code",
   "execution_count": 8,
   "id": "ba2fc87a",
   "metadata": {},
   "outputs": [
    {
     "data": {
      "text/plain": [
       "True"
      ]
     },
     "execution_count": 8,
     "metadata": {},
     "output_type": "execute_result"
    }
   ],
   "source": [
    "first=second=15\n",
    "first is second"
   ]
  },
  {
   "cell_type": "code",
   "execution_count": 7,
   "id": "ea72d396",
   "metadata": {},
   "outputs": [
    {
     "data": {
      "text/plain": [
       "False"
      ]
     },
     "execution_count": 7,
     "metadata": {},
     "output_type": "execute_result"
    }
   ],
   "source": [
    "first is not second"
   ]
  },
  {
   "cell_type": "markdown",
   "id": "c835a485",
   "metadata": {},
   "source": [
    "#### Table"
   ]
  },
  {
   "cell_type": "markdown",
   "id": "08b85303",
   "metadata": {},
   "source": [
    "| Name| Roll| Loc\n",
    "| ----| ----| ----|\n",
    "|Ruthu|123|Gnt\n",
    "|Vanitha|567|Vij|"
   ]
  },
  {
   "cell_type": "code",
   "execution_count": 9,
   "id": "b09194f5",
   "metadata": {},
   "outputs": [
    {
     "data": {
      "text/plain": [
       "(1981090327280, 1981090327280)"
      ]
     },
     "execution_count": 9,
     "metadata": {},
     "output_type": "execute_result"
    }
   ],
   "source": [
    "id(first),id(second)"
   ]
  },
  {
   "cell_type": "code",
   "execution_count": 10,
   "id": "5ed32e0f",
   "metadata": {},
   "outputs": [
    {
     "data": {
      "text/plain": [
       "(1981090327120, 1981090327280)"
      ]
     },
     "execution_count": 10,
     "metadata": {},
     "output_type": "execute_result"
    }
   ],
   "source": [
    "id(f),id(s)"
   ]
  },
  {
   "cell_type": "code",
   "execution_count": 11,
   "id": "2fe48261",
   "metadata": {},
   "outputs": [
    {
     "data": {
      "text/plain": [
       "False"
      ]
     },
     "execution_count": 11,
     "metadata": {},
     "output_type": "execute_result"
    }
   ],
   "source": [
    "name=\"Abhilash\"\n",
    "frnd='Lokesh'\n",
    "name is frnd"
   ]
  },
  {
   "cell_type": "code",
   "execution_count": 12,
   "id": "4ef2b367",
   "metadata": {},
   "outputs": [
    {
     "data": {
      "text/plain": [
       "True"
      ]
     },
     "execution_count": 12,
     "metadata": {},
     "output_type": "execute_result"
    }
   ],
   "source": [
    "name is not frnd"
   ]
  },
  {
   "cell_type": "code",
   "execution_count": 13,
   "id": "acd4460a",
   "metadata": {},
   "outputs": [],
   "source": [
    "name=frnd"
   ]
  },
  {
   "cell_type": "code",
   "execution_count": 14,
   "id": "0d98cb4c",
   "metadata": {},
   "outputs": [
    {
     "data": {
      "text/plain": [
       "'Lokesh'"
      ]
     },
     "execution_count": 14,
     "metadata": {},
     "output_type": "execute_result"
    }
   ],
   "source": [
    "name"
   ]
  },
  {
   "cell_type": "code",
   "execution_count": 15,
   "id": "6fb651c0",
   "metadata": {},
   "outputs": [
    {
     "data": {
      "text/plain": [
       "False"
      ]
     },
     "execution_count": 15,
     "metadata": {},
     "output_type": "execute_result"
    }
   ],
   "source": [
    "name!=frnd # logical operator"
   ]
  },
  {
   "cell_type": "code",
   "execution_count": 16,
   "id": "85230e85",
   "metadata": {},
   "outputs": [
    {
     "data": {
      "text/plain": [
       "'Lokesh'"
      ]
     },
     "execution_count": 16,
     "metadata": {},
     "output_type": "execute_result"
    }
   ],
   "source": [
    "frnd"
   ]
  },
  {
   "cell_type": "code",
   "execution_count": 17,
   "id": "6aabd306",
   "metadata": {},
   "outputs": [
    {
     "data": {
      "text/plain": [
       "('Lokesh', 'Lokesh')"
      ]
     },
     "execution_count": 17,
     "metadata": {},
     "output_type": "execute_result"
    }
   ],
   "source": [
    "frnd,name"
   ]
  },
  {
   "cell_type": "markdown",
   "id": "a7cef159",
   "metadata": {},
   "source": [
    "### Bitwise op'rs\n",
    "- operating on each bit of the digit"
   ]
  },
  {
   "cell_type": "code",
   "execution_count": 19,
   "id": "aa069376",
   "metadata": {},
   "outputs": [
    {
     "name": "stdout",
     "output_type": "stream",
     "text": [
      "30\n"
     ]
    }
   ],
   "source": [
    "val=10 # 1010\n",
    "val2=20\n",
    "print(val|val2) # why 30"
   ]
  },
  {
   "cell_type": "code",
   "execution_count": 20,
   "id": "a9e98c8b",
   "metadata": {
    "collapsed": true
   },
   "outputs": [
    {
     "ename": "SyntaxError",
     "evalue": "unmatched ')' (2627091528.py, line 1)",
     "output_type": "error",
     "traceback": [
      "\u001b[1;36m  File \u001b[1;32m\"C:\\Users\\ruthu\\AppData\\Local\\Temp\\ipykernel_12008\\2627091528.py\"\u001b[1;36m, line \u001b[1;32m1\u001b[0m\n\u001b[1;33m    2)20(\u001b[0m\n\u001b[1;37m     ^\u001b[0m\n\u001b[1;31mSyntaxError\u001b[0m\u001b[1;31m:\u001b[0m unmatched ')'\n"
     ]
    }
   ],
   "source": [
    "2)20(\n",
    "    10(0\n",
    "       5(0\n",
    "         2(1\n",
    "           1(0"
   ]
  },
  {
   "cell_type": "code",
   "execution_count": 21,
   "id": "501a0e34",
   "metadata": {
    "collapsed": true
   },
   "outputs": [
    {
     "ename": "SyntaxError",
     "evalue": "leading zeros in decimal integer literals are not permitted; use an 0o prefix for octal integers (1486391661.py, line 1)",
     "output_type": "error",
     "traceback": [
      "\u001b[1;36m  File \u001b[1;32m\"C:\\Users\\ruthu\\AppData\\Local\\Temp\\ipykernel_12008\\1486391661.py\"\u001b[1;36m, line \u001b[1;32m1\u001b[0m\n\u001b[1;33m    01010 #8 places\u001b[0m\n\u001b[1;37m        ^\u001b[0m\n\u001b[1;31mSyntaxError\u001b[0m\u001b[1;31m:\u001b[0m leading zeros in decimal integer literals are not permitted; use an 0o prefix for octal integers\n"
     ]
    }
   ],
   "source": [
    "01010 #8 places\n",
    "10100\n",
    "=====\n",
    "11110#30"
   ]
  },
  {
   "cell_type": "code",
   "execution_count": 22,
   "id": "01e036ce",
   "metadata": {},
   "outputs": [
    {
     "data": {
      "text/plain": [
       "'0b11110'"
      ]
     },
     "execution_count": 22,
     "metadata": {},
     "output_type": "execute_result"
    }
   ],
   "source": [
    "bin(30)"
   ]
  },
  {
   "cell_type": "code",
   "execution_count": 23,
   "id": "d757e3f8",
   "metadata": {
    "collapsed": true
   },
   "outputs": [
    {
     "ename": "SyntaxError",
     "evalue": "leading zeros in decimal integer literals are not permitted; use an 0o prefix for octal integers (1946423868.py, line 1)",
     "output_type": "error",
     "traceback": [
      "\u001b[1;36m  File \u001b[1;32m\"C:\\Users\\ruthu\\AppData\\Local\\Temp\\ipykernel_12008\\1946423868.py\"\u001b[1;36m, line \u001b[1;32m1\u001b[0m\n\u001b[1;33m    01010\u001b[0m\n\u001b[1;37m        ^\u001b[0m\n\u001b[1;31mSyntaxError\u001b[0m\u001b[1;31m:\u001b[0m leading zeros in decimal integer literals are not permitted; use an 0o prefix for octal integers\n"
     ]
    }
   ],
   "source": [
    "\n",
    "01010\n",
    "10100\n",
    "=====\n",
    "00000"
   ]
  },
  {
   "cell_type": "code",
   "execution_count": 25,
   "id": "7ddb90ac",
   "metadata": {},
   "outputs": [
    {
     "name": "stdout",
     "output_type": "stream",
     "text": [
      "30\n",
      "0\n",
      "30\n"
     ]
    }
   ],
   "source": [
    "val,val2=10,20\n",
    "print(val|val2)\n",
    "print(val&val2)# performing and op'n \n",
    "print(val^val2) # False(similar) unless True"
   ]
  },
  {
   "cell_type": "code",
   "execution_count": 26,
   "id": "0e77a884",
   "metadata": {
    "collapsed": true
   },
   "outputs": [
    {
     "ename": "SyntaxError",
     "evalue": "leading zeros in decimal integer literals are not permitted; use an 0o prefix for octal integers (2027179686.py, line 1)",
     "output_type": "error",
     "traceback": [
      "\u001b[1;36m  File \u001b[1;32m\"C:\\Users\\ruthu\\AppData\\Local\\Temp\\ipykernel_12008\\2027179686.py\"\u001b[1;36m, line \u001b[1;32m1\u001b[0m\n\u001b[1;33m    01010\u001b[0m\n\u001b[1;37m        ^\u001b[0m\n\u001b[1;31mSyntaxError\u001b[0m\u001b[1;31m:\u001b[0m leading zeros in decimal integer literals are not permitted; use an 0o prefix for octal integers\n"
     ]
    }
   ],
   "source": [
    "01010\n",
    "10100\n",
    "======\n",
    "11110"
   ]
  },
  {
   "cell_type": "code",
   "execution_count": 28,
   "id": "3afb9afe",
   "metadata": {
    "collapsed": true
   },
   "outputs": [
    {
     "name": "stdout",
     "output_type": "stream",
     "text": [
      "first value:35\n",
      "second value:49\n",
      "51\n",
      "33\n",
      "18\n"
     ]
    }
   ],
   "source": [
    "#read 2 dynamic values and perfrom all the bitwise op'ns\n",
    "x,y=int(input(\"first value:\")),int(input(\"second value:\"))\n",
    "print(x|y)\n",
    "print(x&y)\n",
    "print(x^y)"
   ]
  },
  {
   "cell_type": "code",
   "execution_count": 29,
   "id": "45b9a710",
   "metadata": {},
   "outputs": [
    {
     "data": {
      "text/plain": [
       "62"
      ]
     },
     "execution_count": 29,
     "metadata": {},
     "output_type": "execute_result"
    }
   ],
   "source": [
    "#try to perform on multiple variables\n",
    "10|20|40"
   ]
  },
  {
   "cell_type": "code",
   "execution_count": 30,
   "id": "fcaf0dd3",
   "metadata": {},
   "outputs": [
    {
     "data": {
      "text/plain": [
       "'0b101000'"
      ]
     },
     "execution_count": 30,
     "metadata": {},
     "output_type": "execute_result"
    }
   ],
   "source": [
    "bin(40)"
   ]
  },
  {
   "cell_type": "code",
   "execution_count": 31,
   "id": "98451ae9",
   "metadata": {
    "collapsed": true
   },
   "outputs": [
    {
     "ename": "SyntaxError",
     "evalue": "leading zeros in decimal integer literals are not permitted; use an 0o prefix for octal integers (2712727320.py, line 2)",
     "output_type": "error",
     "traceback": [
      "\u001b[1;36m  File \u001b[1;32m\"C:\\Users\\ruthu\\AppData\\Local\\Temp\\ipykernel_12008\\2712727320.py\"\u001b[1;36m, line \u001b[1;32m2\u001b[0m\n\u001b[1;33m    010100\u001b[0m\n\u001b[1;37m         ^\u001b[0m\n\u001b[1;31mSyntaxError\u001b[0m\u001b[1;31m:\u001b[0m leading zeros in decimal integer literals are not permitted; use an 0o prefix for octal integers\n"
     ]
    }
   ],
   "source": [
    "101000 #40\n",
    "010100 #20\n",
    "======\n",
    "111100\n",
    "001010\n",
    "======\n",
    "111110"
   ]
  },
  {
   "cell_type": "code",
   "execution_count": 32,
   "id": "b2e8b9f5",
   "metadata": {},
   "outputs": [
    {
     "data": {
      "text/plain": [
       "'0b111110'"
      ]
     },
     "execution_count": 32,
     "metadata": {},
     "output_type": "execute_result"
    }
   ],
   "source": [
    "bin(62)"
   ]
  },
  {
   "cell_type": "code",
   "execution_count": 33,
   "id": "6a3daad4",
   "metadata": {
    "collapsed": true
   },
   "outputs": [
    {
     "ename": "SyntaxError",
     "evalue": "leading zeros in decimal integer literals are not permitted; use an 0o prefix for octal integers (1499747064.py, line 1)",
     "output_type": "error",
     "traceback": [
      "\u001b[1;36m  File \u001b[1;32m\"C:\\Users\\ruthu\\AppData\\Local\\Temp\\ipykernel_12008\\1499747064.py\"\u001b[1;36m, line \u001b[1;32m1\u001b[0m\n\u001b[1;33m    001010 # 10\u001b[0m\n\u001b[1;37m         ^\u001b[0m\n\u001b[1;31mSyntaxError\u001b[0m\u001b[1;31m:\u001b[0m leading zeros in decimal integer literals are not permitted; use an 0o prefix for octal integers\n"
     ]
    }
   ],
   "source": [
    "001010 # 10\n",
    "010100 #20\n",
    "======\n",
    "011110\n",
    "101000 #40\n",
    "=======\n",
    "111110 #62"
   ]
  },
  {
   "cell_type": "code",
   "execution_count": 36,
   "id": "83045e30",
   "metadata": {},
   "outputs": [
    {
     "data": {
      "text/plain": [
       "0"
      ]
     },
     "execution_count": 36,
     "metadata": {},
     "output_type": "execute_result"
    }
   ],
   "source": [
    "10&20&40"
   ]
  },
  {
   "cell_type": "code",
   "execution_count": 35,
   "id": "15293bb3",
   "metadata": {},
   "outputs": [
    {
     "data": {
      "text/plain": [
       "54"
      ]
     },
     "execution_count": 35,
     "metadata": {},
     "output_type": "execute_result"
    }
   ],
   "source": [
    "10^20^40"
   ]
  },
  {
   "cell_type": "code",
   "execution_count": 37,
   "id": "60c3b0b9",
   "metadata": {},
   "outputs": [
    {
     "data": {
      "text/plain": [
       "0"
      ]
     },
     "execution_count": 37,
     "metadata": {},
     "output_type": "execute_result"
    }
   ],
   "source": [
    "10&20"
   ]
  },
  {
   "cell_type": "code",
   "execution_count": 38,
   "id": "a24f3b06",
   "metadata": {
    "collapsed": true
   },
   "outputs": [
    {
     "ename": "SyntaxError",
     "evalue": "leading zeros in decimal integer literals are not permitted; use an 0o prefix for octal integers (723981266.py, line 1)",
     "output_type": "error",
     "traceback": [
      "\u001b[1;36m  File \u001b[1;32m\"C:\\Users\\ruthu\\AppData\\Local\\Temp\\ipykernel_12008\\723981266.py\"\u001b[1;36m, line \u001b[1;32m1\u001b[0m\n\u001b[1;33m    01010\u001b[0m\n\u001b[1;37m        ^\u001b[0m\n\u001b[1;31mSyntaxError\u001b[0m\u001b[1;31m:\u001b[0m leading zeros in decimal integer literals are not permitted; use an 0o prefix for octal integers\n"
     ]
    }
   ],
   "source": [
    "01010\n",
    "10100\n",
    "=====\n",
    "00000 #0"
   ]
  },
  {
   "cell_type": "markdown",
   "id": "66724180",
   "metadata": {},
   "source": [
    "#### comparisional/relational"
   ]
  },
  {
   "cell_type": "code",
   "execution_count": 44,
   "id": "5d881f48",
   "metadata": {},
   "outputs": [
    {
     "name": "stdout",
     "output_type": "stream",
     "text": [
      "value:90\n",
      "value2:45\n"
     ]
    },
    {
     "data": {
      "text/plain": [
       "True"
      ]
     },
     "execution_count": 44,
     "metadata": {},
     "output_type": "execute_result"
    }
   ],
   "source": [
    "third,frth=int(input(\"value:\")),int(input(\"value2:\"))\n",
    "third>frth"
   ]
  },
  {
   "cell_type": "code",
   "execution_count": 45,
   "id": "a4a1462b",
   "metadata": {},
   "outputs": [
    {
     "data": {
      "text/plain": [
       "False"
      ]
     },
     "execution_count": 45,
     "metadata": {},
     "output_type": "execute_result"
    }
   ],
   "source": [
    "third<frth"
   ]
  },
  {
   "cell_type": "code",
   "execution_count": 46,
   "id": "780dbccc",
   "metadata": {},
   "outputs": [
    {
     "data": {
      "text/plain": [
       "True"
      ]
     },
     "execution_count": 46,
     "metadata": {},
     "output_type": "execute_result"
    }
   ],
   "source": [
    "40>=35"
   ]
  },
  {
   "cell_type": "code",
   "execution_count": 47,
   "id": "352fe84a",
   "metadata": {},
   "outputs": [
    {
     "data": {
      "text/plain": [
       "True"
      ]
     },
     "execution_count": 47,
     "metadata": {},
     "output_type": "execute_result"
    }
   ],
   "source": [
    "35<=90"
   ]
  },
  {
   "cell_type": "code",
   "execution_count": 48,
   "id": "73897c63",
   "metadata": {
    "collapsed": true
   },
   "outputs": [
    {
     "ename": "SyntaxError",
     "evalue": "cannot assign to literal (2289863474.py, line 1)",
     "output_type": "error",
     "traceback": [
      "\u001b[1;36m  File \u001b[1;32m\"C:\\Users\\ruthu\\AppData\\Local\\Temp\\ipykernel_12008\\2289863474.py\"\u001b[1;36m, line \u001b[1;32m1\u001b[0m\n\u001b[1;33m    35=67 # error\u001b[0m\n\u001b[1;37m    ^\u001b[0m\n\u001b[1;31mSyntaxError\u001b[0m\u001b[1;31m:\u001b[0m cannot assign to literal\n"
     ]
    }
   ],
   "source": [
    "35=67 # error"
   ]
  },
  {
   "cell_type": "code",
   "execution_count": 49,
   "id": "6fc86021",
   "metadata": {},
   "outputs": [
    {
     "data": {
      "text/plain": [
       "True"
      ]
     },
     "execution_count": 49,
     "metadata": {},
     "output_type": "execute_result"
    }
   ],
   "source": [
    "35!=67"
   ]
  },
  {
   "cell_type": "markdown",
   "id": "b3381fc8",
   "metadata": {},
   "source": [
    "#### Logical operators\n",
    "- and,or,not"
   ]
  },
  {
   "cell_type": "code",
   "execution_count": 50,
   "id": "138d0fc4",
   "metadata": {
    "collapsed": true
   },
   "outputs": [
    {
     "name": "stderr",
     "output_type": "stream",
     "text": [
      "<>:2: SyntaxWarning: \"is\" with a literal. Did you mean \"==\"?\n",
      "<>:2: SyntaxWarning: \"is\" with a literal. Did you mean \"==\"?\n",
      "C:\\Users\\ruthu\\AppData\\Local\\Temp\\ipykernel_12008\\3374459050.py:2: SyntaxWarning: \"is\" with a literal. Did you mean \"==\"?\n",
      "  i is j or i is 10 # F or T==T\n"
     ]
    },
    {
     "data": {
      "text/plain": [
       "True"
      ]
     },
     "execution_count": 50,
     "metadata": {},
     "output_type": "execute_result"
    }
   ],
   "source": [
    "i,j=10,34\n",
    "i is j or i is 10 # F or T==T"
   ]
  },
  {
   "cell_type": "code",
   "execution_count": 51,
   "id": "66a7ca0e",
   "metadata": {},
   "outputs": [
    {
     "data": {
      "text/plain": [
       "True"
      ]
     },
     "execution_count": 51,
     "metadata": {},
     "output_type": "execute_result"
    }
   ],
   "source": [
    "i is not j or i is j"
   ]
  },
  {
   "cell_type": "code",
   "execution_count": 52,
   "id": "504d7936",
   "metadata": {
    "collapsed": true
   },
   "outputs": [
    {
     "name": "stderr",
     "output_type": "stream",
     "text": [
      "<>:1: SyntaxWarning: \"is not\" with a literal. Did you mean \"!=\"?\n",
      "<>:1: SyntaxWarning: \"is not\" with a literal. Did you mean \"!=\"?\n",
      "C:\\Users\\ruthu\\AppData\\Local\\Temp\\ipykernel_12008\\2768934987.py:1: SyntaxWarning: \"is not\" with a literal. Did you mean \"!=\"?\n",
      "  i is j or i is not 10 # F or F\n"
     ]
    },
    {
     "data": {
      "text/plain": [
       "False"
      ]
     },
     "execution_count": 52,
     "metadata": {},
     "output_type": "execute_result"
    }
   ],
   "source": [
    "i is j or i is not 10 # F or F"
   ]
  },
  {
   "cell_type": "code",
   "execution_count": 53,
   "id": "bc5a96a7",
   "metadata": {},
   "outputs": [
    {
     "name": "stderr",
     "output_type": "stream",
     "text": [
      "<>:1: SyntaxWarning: \"is\" with a literal. Did you mean \"==\"?\n",
      "<>:1: SyntaxWarning: \"is\" with a literal. Did you mean \"==\"?\n",
      "C:\\Users\\ruthu\\AppData\\Local\\Temp\\ipykernel_12008\\501490385.py:1: SyntaxWarning: \"is\" with a literal. Did you mean \"==\"?\n",
      "  i is not j and i is 10 # T and T\n"
     ]
    },
    {
     "data": {
      "text/plain": [
       "True"
      ]
     },
     "execution_count": 53,
     "metadata": {},
     "output_type": "execute_result"
    }
   ],
   "source": [
    "i is not j and i is 10 # T and T"
   ]
  },
  {
   "cell_type": "code",
   "execution_count": 54,
   "id": "d05d3eb0",
   "metadata": {},
   "outputs": [
    {
     "name": "stderr",
     "output_type": "stream",
     "text": [
      "<>:1: SyntaxWarning: \"is\" with a literal. Did you mean \"==\"?\n",
      "<>:1: SyntaxWarning: \"is\" with a literal. Did you mean \"==\"?\n",
      "C:\\Users\\ruthu\\AppData\\Local\\Temp\\ipykernel_12008\\2663164437.py:1: SyntaxWarning: \"is\" with a literal. Did you mean \"==\"?\n",
      "  i is 15 and i is not j\n"
     ]
    },
    {
     "data": {
      "text/plain": [
       "False"
      ]
     },
     "execution_count": 54,
     "metadata": {},
     "output_type": "execute_result"
    }
   ],
   "source": [
    "i is 15 and i is not j"
   ]
  },
  {
   "cell_type": "code",
   "execution_count": 55,
   "id": "4d587a95",
   "metadata": {},
   "outputs": [
    {
     "data": {
      "text/plain": [
       "True"
      ]
     },
     "execution_count": 55,
     "metadata": {},
     "output_type": "execute_result"
    }
   ],
   "source": [
    "i is not j"
   ]
  },
  {
   "cell_type": "code",
   "execution_count": 56,
   "id": "8514e0ca",
   "metadata": {},
   "outputs": [
    {
     "name": "stderr",
     "output_type": "stream",
     "text": [
      "<>:1: SyntaxWarning: \"is not\" with a literal. Did you mean \"!=\"?\n",
      "<>:1: SyntaxWarning: \"is not\" with a literal. Did you mean \"!=\"?\n",
      "C:\\Users\\ruthu\\AppData\\Local\\Temp\\ipykernel_12008\\161369062.py:1: SyntaxWarning: \"is not\" with a literal. Did you mean \"!=\"?\n",
      "  i is not 10\n"
     ]
    },
    {
     "data": {
      "text/plain": [
       "False"
      ]
     },
     "execution_count": 56,
     "metadata": {},
     "output_type": "execute_result"
    }
   ],
   "source": [
    "i is not 10"
   ]
  },
  {
   "cell_type": "code",
   "execution_count": 57,
   "id": "e1f07895",
   "metadata": {},
   "outputs": [
    {
     "name": "stderr",
     "output_type": "stream",
     "text": [
      "<>:1: SyntaxWarning: \"is not\" with a literal. Did you mean \"!=\"?\n",
      "<>:1: SyntaxWarning: \"is not\" with a literal. Did you mean \"!=\"?\n",
      "C:\\Users\\ruthu\\AppData\\Local\\Temp\\ipykernel_12008\\560614334.py:1: SyntaxWarning: \"is not\" with a literal. Did you mean \"!=\"?\n",
      "  i is not 12\n"
     ]
    },
    {
     "data": {
      "text/plain": [
       "True"
      ]
     },
     "execution_count": 57,
     "metadata": {},
     "output_type": "execute_result"
    }
   ],
   "source": [
    "i is not 12"
   ]
  },
  {
   "cell_type": "markdown",
   "id": "b29b33dc",
   "metadata": {},
   "source": [
    "#### assignment operators\n",
    "- incrementing  op'rs\n",
    "    - increasing the given by using either + or *\n",
    "- decrementing\n",
    "    - decreaing the given value using - or /"
   ]
  },
  {
   "cell_type": "code",
   "execution_count": 59,
   "id": "dd8aba7d",
   "metadata": {},
   "outputs": [
    {
     "name": "stdout",
     "output_type": "stream",
     "text": [
      "50\n",
      "54\n",
      "162\n"
     ]
    }
   ],
   "source": [
    "new=50\n",
    "print(new)\n",
    "new=new+4 # new+=4\n",
    "print(new)\n",
    "new*=3 # new=new*3\n",
    "print(new)"
   ]
  },
  {
   "cell_type": "code",
   "execution_count": 63,
   "id": "1b4ba866",
   "metadata": {},
   "outputs": [
    {
     "name": "stdout",
     "output_type": "stream",
     "text": [
      "-5.4\n",
      "-1.35\n"
     ]
    }
   ],
   "source": [
    "#decrementation -/\n",
    "new=new-10 #162-10\n",
    "print(new)\n",
    "new/=4\n",
    "print(new)"
   ]
  },
  {
   "cell_type": "code",
   "execution_count": 64,
   "id": "80a10fda",
   "metadata": {
    "collapsed": true
   },
   "outputs": [
    {
     "name": "stdout",
     "output_type": "stream",
     "text": [
      "7.1\n"
     ]
    }
   ],
   "source": [
    "new=28.4\n",
    "print(new/4)"
   ]
  },
  {
   "cell_type": "markdown",
   "id": "7095b6e5",
   "metadata": {},
   "source": [
    "#### membership\n",
    "- checking for the existance"
   ]
  },
  {
   "cell_type": "code",
   "execution_count": 65,
   "id": "2d8aaf82",
   "metadata": {},
   "outputs": [
    {
     "data": {
      "text/plain": [
       "True"
      ]
     },
     "execution_count": 65,
     "metadata": {},
     "output_type": "execute_result"
    }
   ],
   "source": [
    "\"r\" in \"ravali\""
   ]
  },
  {
   "cell_type": "code",
   "execution_count": 66,
   "id": "45a0809d",
   "metadata": {},
   "outputs": [
    {
     "data": {
      "text/plain": [
       "True"
      ]
     },
     "execution_count": 66,
     "metadata": {},
     "output_type": "execute_result"
    }
   ],
   "source": [
    "\"s\" in \"viswa\""
   ]
  },
  {
   "cell_type": "code",
   "execution_count": 67,
   "id": "ede00313",
   "metadata": {},
   "outputs": [
    {
     "data": {
      "text/plain": [
       "True"
      ]
     },
     "execution_count": 67,
     "metadata": {},
     "output_type": "execute_result"
    }
   ],
   "source": [
    "\"g\" not in \"svec\""
   ]
  },
  {
   "cell_type": "code",
   "execution_count": 69,
   "id": "fdf0799d",
   "metadata": {},
   "outputs": [
    {
     "data": {
      "text/plain": [
       "False"
      ]
     },
     "execution_count": 69,
     "metadata": {},
     "output_type": "execute_result"
    }
   ],
   "source": [
    "9 in range(20,45)"
   ]
  },
  {
   "cell_type": "markdown",
   "id": "a778d630",
   "metadata": {},
   "source": [
    "#### operators used in print(only in python)\n",
    "- sep,end"
   ]
  },
  {
   "cell_type": "code",
   "execution_count": 78,
   "id": "2c3a6ee1",
   "metadata": {
    "scrolled": false
   },
   "outputs": [
    {
     "name": "stdout",
     "output_type": "stream",
     "text": [
      "10,20,30,40\n",
      "h+10+j+90.45\n",
      "90\n",
      "89\n",
      "h@e@y@svec.10 20 30."
     ]
    }
   ],
   "source": [
    "print(10,20,30,40,sep=',') # separating \n",
    "print('h',10,'j',90.45,sep=\"+\")\n",
    "print(90) # print() ends with new line by default\n",
    "print(89)\n",
    "print('h','e','y','svec',sep='@',end='.')\n",
    "print(10,20,30,end='.')"
   ]
  },
  {
   "cell_type": "code",
   "execution_count": 79,
   "id": "e6c9db27",
   "metadata": {},
   "outputs": [
    {
     "name": "stdout",
     "output_type": "stream",
     "text": [
      "r,u,t,h,u\n"
     ]
    }
   ],
   "source": [
    "print(*\"ruthu\",sep=',')"
   ]
  },
  {
   "cell_type": "code",
   "execution_count": 84,
   "id": "ce20936d",
   "metadata": {},
   "outputs": [
    {
     "name": "stdout",
     "output_type": "stream",
     "text": [
      "10,11,12,13,14,15,16,17,18,19,20,21,22,23,24\n",
      "range(10, 25)\n",
      "range(10, 25),ruthu\n"
     ]
    }
   ],
   "source": [
    "print(*range(10,25),sep=',') # \n",
    "print(range(10,25),sep=\",\") # treats like single var\n",
    "print(range(10,25),'ruthu',sep=\",\")"
   ]
  },
  {
   "cell_type": "code",
   "execution_count": 81,
   "id": "32279aa3",
   "metadata": {},
   "outputs": [
    {
     "data": {
      "text/plain": [
       "20"
      ]
     },
     "execution_count": 81,
     "metadata": {},
     "output_type": "execute_result"
    }
   ],
   "source": [
    "4*5"
   ]
  },
  {
   "cell_type": "code",
   "execution_count": 82,
   "id": "b0b6a4a2",
   "metadata": {},
   "outputs": [
    {
     "data": {
      "text/plain": [
       "'strstrstrstrstr'"
      ]
     },
     "execution_count": 82,
     "metadata": {},
     "output_type": "execute_result"
    }
   ],
   "source": [
    "5*'str' # * means multiple"
   ]
  },
  {
   "cell_type": "code",
   "execution_count": null,
   "id": "bf0ffa6b",
   "metadata": {},
   "outputs": [],
   "source": []
  }
 ],
 "metadata": {
  "kernelspec": {
   "display_name": "Python 3 (ipykernel)",
   "language": "python",
   "name": "python3"
  },
  "language_info": {
   "codemirror_mode": {
    "name": "ipython",
    "version": 3
   },
   "file_extension": ".py",
   "mimetype": "text/x-python",
   "name": "python",
   "nbconvert_exporter": "python",
   "pygments_lexer": "ipython3",
   "version": "3.9.13"
  }
 },
 "nbformat": 4,
 "nbformat_minor": 5
}
