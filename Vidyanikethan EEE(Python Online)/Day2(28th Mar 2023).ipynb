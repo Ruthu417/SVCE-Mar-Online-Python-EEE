{
 "cells": [
  {
   "cell_type": "markdown",
   "id": "85b365c1",
   "metadata": {},
   "source": [
    "#### Markdown"
   ]
  },
  {
   "cell_type": "markdown",
   "id": "36ba7e39",
   "metadata": {},
   "source": [
    "<h3 style=\"color:red;background-color:cyan;text-align:center\">This is Day2</h3>"
   ]
  },
  {
   "cell_type": "markdown",
   "id": "daa32457",
   "metadata": {},
   "source": [
    "#### urls or resource links\n",
    "- [text to display](url)"
   ]
  },
  {
   "cell_type": "markdown",
   "id": "65f7a80e",
   "metadata": {},
   "source": [
    "#### you can follow me @\n",
    "- [Gmail](https://www.google.com/)\n",
    "- [facebook](https://www.facebook.com/)\n",
    "- [youtube](https://www.youtube.com/)"
   ]
  },
  {
   "cell_type": "markdown",
   "id": "3b4b58d6",
   "metadata": {},
   "source": [
    "#### uploading image"
   ]
  },
  {
   "cell_type": "markdown",
   "id": "b3ccf829",
   "metadata": {},
   "source": [
    "<img src=\"clg.jpg\" height=120px width=120px>"
   ]
  },
  {
   "cell_type": "markdown",
   "id": "7b1c08b9",
   "metadata": {},
   "source": [
    "#### Table in our document"
   ]
  },
  {
   "cell_type": "markdown",
   "id": "95250a54",
   "metadata": {},
   "source": [
    "| S.no| Name| Roll| Year| Location|\n",
    "| ----| ----| ----| ----| ----|\n",
    "|1|Sowmya|12|2|Gnt|\n",
    "|2|Rani|15|5|Vij|"
   ]
  },
  {
   "cell_type": "markdown",
   "id": "8f1ca4d0",
   "metadata": {},
   "source": [
    "### your resume\n",
    "1. personal info\n",
    "2. academic info: study(table)\n",
    "3. achievements\n",
    "4. profile\n",
    "5. contact details\n",
    "6. social media"
   ]
  },
  {
   "cell_type": "markdown",
   "id": "c434f27d",
   "metadata": {},
   "source": [
    "### Introduction to Python\n",
    "- python is a fast growing general purpose,high level and interpreted programming language\n",
    "    - **General purpose**\n",
    "        - used for multiple purpose such as scientific computation,system s/w development,web development,mobile application development . \n",
    "    - **High Level**\n",
    "        - User understandable language\n",
    "    - **Interpreted language**\n",
    "        - gives us the line by line execution and there is no compiler in the middle of execution\n",
    "- **Features of python**\n",
    "    1. platform independent (can run on any operating system)\n",
    "    2. Easy to learn and simple to code\n",
    "    3. It requires prior coding knowledge to learn\n",
    "    4. Syntax free language\n",
    "    5. It is both case sensitive and space sensitive\n",
    "    6. There is no type declaration in python sice it is dynamically typed\n",
    "    7. Semi object oriented language\n",
    "    \n",
    "- **Applications of python**\n",
    "    - it is the building block of all current technologies such as Data Analysis,Machine Learnin,Aritificial Intelligence(Data Science),Robotics,IOT,Cloud Computing etc.\n",
    "    \n",
    "- 3.11 is the new version of python\n",
    "- python.org(official website)"
   ]
  },
  {
   "cell_type": "markdown",
   "id": "2992c7ef",
   "metadata": {},
   "source": [
    "#### keywords\n",
    "- a keyword is a reserved word which has special meaning and purpose that supports to write the code\n",
    "- 35 keywords"
   ]
  },
  {
   "cell_type": "code",
   "execution_count": 1,
   "id": "29b1c4e5",
   "metadata": {
    "scrolled": true
   },
   "outputs": [
    {
     "name": "stdout",
     "output_type": "stream",
     "text": [
      "['False', 'None', 'True', '__peg_parser__', 'and', 'as', 'assert', 'async', 'await', 'break', 'class', 'continue', 'def', 'del', 'elif', 'else', 'except', 'finally', 'for', 'from', 'global', 'if', 'import', 'in', 'is', 'lambda', 'nonlocal', 'not', 'or', 'pass', 'raise', 'return', 'try', 'while', 'with', 'yield']\n"
     ]
    }
   ],
   "source": [
    "import keyword\n",
    "print(keyword.kwlist)"
   ]
  },
  {
   "cell_type": "code",
   "execution_count": 2,
   "id": "10feeee5",
   "metadata": {
    "collapsed": true
   },
   "outputs": [
    {
     "ename": "SyntaxError",
     "evalue": "only single target (not tuple) can be annotated (569928537.py, line 1)",
     "output_type": "error",
     "traceback": [
      "\u001b[1;36m  File \u001b[1;32m\"C:\\Users\\ruthu\\AppData\\Local\\Temp\\ipykernel_23268\\569928537.py\"\u001b[1;36m, line \u001b[1;32m1\u001b[0m\n\u001b[1;33m    False(0),True(1),None(Nothing/Null):boolean keywords\u001b[0m\n\u001b[1;37m    ^\u001b[0m\n\u001b[1;31mSyntaxError\u001b[0m\u001b[1;31m:\u001b[0m only single target (not tuple) can be annotated\n"
     ]
    }
   ],
   "source": [
    "False(0),True(1),None(Nothing/Null):boolean keywords\n",
    "and,or,not:logical operator\n",
    "as:alias\n",
    "assert,async,await:used in process synchronization(mutli threading)\n",
    "break,continue,pass:jumping/flow control statements\n",
    "def,return,yield:represents the function/used in function\n",
    "del:deletes the iterable\n",
    "if,else,elif:conditional statements\n",
    "except,try,finally,raise:used in exceptional handling\n",
    "for,while:loops\n",
    "import,from,as:used to import modules\n",
    "in:membership op'r\n",
    "is:identity op'r\n",
    "with:to open the files existed in our local machine\n",
    "lambda:anonymous function keyword\n",
    "nonlocal,global:to represent a variable\n",
    "class:to create a class"
   ]
  },
  {
   "cell_type": "markdown",
   "id": "0ce1f6ad",
   "metadata": {},
   "source": [
    "#### Errors in python\n",
    "- An invalid statement in the program/code said to be Error\n",
    "- Types of Errors\n",
    "    1. Syntax Error\n",
    "        - Error related to syntax\n",
    "    2. Value Error and \n",
    "        - Name error,key error,file not error,value error etc\n",
    "    3. Indentation Error\n",
    "        - Error related to space"
   ]
  },
  {
   "cell_type": "code",
   "execution_count": 3,
   "id": "eae0ee89",
   "metadata": {},
   "outputs": [
    {
     "name": "stdout",
     "output_type": "stream",
     "text": [
      "Welcome to all\n"
     ]
    }
   ],
   "source": [
    "print(\"Welcome to all\")"
   ]
  },
  {
   "cell_type": "code",
   "execution_count": 4,
   "id": "0b7b1f0a",
   "metadata": {
    "collapsed": true
   },
   "outputs": [
    {
     "ename": "SyntaxError",
     "evalue": "EOL while scanning string literal (404978028.py, line 1)",
     "output_type": "error",
     "traceback": [
      "\u001b[1;36m  File \u001b[1;32m\"C:\\Users\\ruthu\\AppData\\Local\\Temp\\ipykernel_23268\\404978028.py\"\u001b[1;36m, line \u001b[1;32m1\u001b[0m\n\u001b[1;33m    print(\"stared with double and ended with single')\u001b[0m\n\u001b[1;37m                                                     ^\u001b[0m\n\u001b[1;31mSyntaxError\u001b[0m\u001b[1;31m:\u001b[0m EOL while scanning string literal\n"
     ]
    }
   ],
   "source": [
    "print(\"stared with double and ended with single')"
   ]
  },
  {
   "cell_type": "code",
   "execution_count": 5,
   "id": "7754ee9b",
   "metadata": {},
   "outputs": [
    {
     "name": "stdout",
     "output_type": "stream",
     "text": [
      "I am 'Ruthu' from APSSDC\n"
     ]
    }
   ],
   "source": [
    "#high light the sub text\n",
    "#w r p to print I am 'Ruthu' from APSSDC\n",
    "print(\"I am 'Ruthu' from APSSDC\")"
   ]
  },
  {
   "cell_type": "code",
   "execution_count": 6,
   "id": "d2ec96a2",
   "metadata": {},
   "outputs": [
    {
     "name": "stdout",
     "output_type": "stream",
     "text": [
      "I am \"Ashok\" from APSSDC\n"
     ]
    }
   ],
   "source": [
    "print('I am \"Ashok\" from APSSDC')"
   ]
  },
  {
   "cell_type": "code",
   "execution_count": 12,
   "id": "3c1e8054",
   "metadata": {},
   "outputs": [
    {
     "name": "stdout",
     "output_type": "stream",
     "text": [
      "Hello students myself 'Ruthu' from APSSDC working as \"Trainer cum Developer\" \n"
     ]
    }
   ],
   "source": [
    "print('''Hello students myself 'Ruthu' from APSSDC working as \"Trainer cum Developer\" ''')"
   ]
  },
  {
   "cell_type": "code",
   "execution_count": 13,
   "id": "c20e5b1e",
   "metadata": {},
   "outputs": [
    {
     "name": "stdout",
     "output_type": "stream",
     "text": [
      "90\n",
      "90.34\n"
     ]
    }
   ],
   "source": [
    "print(90)\n",
    "print(90.34)"
   ]
  },
  {
   "cell_type": "code",
   "execution_count": 14,
   "id": "a15ae960",
   "metadata": {},
   "outputs": [
    {
     "name": "stdout",
     "output_type": "stream",
     "text": [
      "I am Ruthu and my age is 25\n"
     ]
    }
   ],
   "source": [
    "print(\"I am Ruthu and my age is\",25)"
   ]
  },
  {
   "cell_type": "code",
   "execution_count": null,
   "id": "702ab025",
   "metadata": {},
   "outputs": [],
   "source": []
  }
 ],
 "metadata": {
  "kernelspec": {
   "display_name": "Python 3 (ipykernel)",
   "language": "python",
   "name": "python3"
  },
  "language_info": {
   "codemirror_mode": {
    "name": "ipython",
    "version": 3
   },
   "file_extension": ".py",
   "mimetype": "text/x-python",
   "name": "python",
   "nbconvert_exporter": "python",
   "pygments_lexer": "ipython3",
   "version": "3.9.13"
  }
 },
 "nbformat": 4,
 "nbformat_minor": 5
}
